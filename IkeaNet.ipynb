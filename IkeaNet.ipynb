{
 "cells": [
  {
   "cell_type": "code",
   "execution_count": 78,
   "metadata": {},
   "outputs": [],
   "source": [
    "import re\n",
    "import numpy as np\n",
    "import matplotlib.pyplot as plt\n",
    "\n",
    "import torch\n",
    "import torch.nn as nn\n",
    "import torch.nn.functional as F\n",
    "\n",
    "from pprint import pprint\n",
    "from IPython.display import clear_output\n",
    "from random import sample\n",
    "\n",
    "%matplotlib inline"
   ]
  },
  {
   "cell_type": "markdown",
   "metadata": {},
   "source": [
    "## Downloading"
   ]
  },
  {
   "cell_type": "markdown",
   "metadata": {},
   "source": [
    "### Russian names"
   ]
  },
  {
   "cell_type": "code",
   "execution_count": 106,
   "metadata": {},
   "outputs": [],
   "source": [
    "with open('names.txt', 'r', encoding='utf-8') as file:\n",
    "    names = file.read().split('\\n')"
   ]
  },
  {
   "cell_type": "code",
   "execution_count": 107,
   "metadata": {},
   "outputs": [
    {
     "name": "stdout",
     "output_type": "stream",
     "text": [
      "Number of items: 1493\n"
     ]
    }
   ],
   "source": [
    "print('Number of items:', len(names))"
   ]
  },
  {
   "cell_type": "code",
   "execution_count": 108,
   "metadata": {},
   "outputs": [
    {
     "name": "stdout",
     "output_type": "stream",
     "text": [
      "['ЭПЛАРО 2-местный модульный диван, садовый',\n",
      " 'СУННЕРСТА тележка',\n",
      " 'ХЕМНЭС консольный стол',\n",
      " 'ПОЭНГ кресло',\n",
      " 'МИТТБИТ салфетка под приборы']\n"
     ]
    }
   ],
   "source": [
    "pprint(names[:5])"
   ]
  },
  {
   "cell_type": "code",
   "execution_count": 109,
   "metadata": {},
   "outputs": [
    {
     "name": "stdout",
     "output_type": "stream",
     "text": [
      "Max length: 63\n"
     ]
    },
    {
     "data": {
      "image/png": "[encoded data removed]",
      "text/plain": [
       "<Figure size 432x288 with 1 Axes>"
      ]
     },
     "metadata": {},
     "output_type": "display_data"
    }
   ],
   "source": [
    "print('Max length:', max(map(len, names)))\n",
    "\n",
    "plt.title('Sequence length distribution')\n",
    "_ = plt.hist(list(map(len, names)), bins=25)"
   ]
  },
  {
   "cell_type": "markdown",
   "metadata": {},
   "source": [
    "### Russian names without special characters"
   ]
  },
  {
   "cell_type": "code",
   "execution_count": 126,
   "metadata": {},
   "outputs": [
    {
     "name": "stdout",
     "output_type": "stream",
     "text": [
      "['ЭПЛАРО местный модульный диван садовый',\n",
      " 'СУННЕРСТА тележка',\n",
      " 'ХЕМНЭС консольный стол',\n",
      " 'ПОЭНГ кресло',\n",
      " 'МИТТБИТ салфетка под приборы']\n"
     ]
    }
   ],
   "source": [
    "clean_names = [re.sub(r'[^А-Яа-я ]', '', name) for name in names]\n",
    "pprint(clean_names[:5])"
   ]
  },
  {
   "cell_type": "markdown",
   "metadata": {},
   "source": [
    "### English names"
   ]
  },
  {
   "cell_type": "code",
   "execution_count": 111,
   "metadata": {},
   "outputs": [],
   "source": [
    "with open('english_names.txt', 'r', encoding='utf-8') as file:\n",
    "    english_names = file.read().split('\\n')"
   ]
  },
  {
   "cell_type": "code",
   "execution_count": 112,
   "metadata": {},
   "outputs": [
    {
     "name": "stdout",
     "output_type": "stream",
     "text": [
      "['ABSORB leathercare set',\n",
      " 'ABSORB leathercleaner',\n",
      " 'ADMETE RUND chair pad',\n",
      " 'ADMETE chair pad',\n",
      " 'ADMETE dish towel']\n"
     ]
    }
   ],
   "source": [
    "pprint(english_names[:5])"
   ]
  },
  {
   "cell_type": "code",
   "execution_count": 113,
   "metadata": {},
   "outputs": [
    {
     "name": "stdout",
     "output_type": "stream",
     "text": [
      "Max length: 56\n"
     ]
    },
    {
     "data": {
      "image/png": "[encoded data removed]",
      "text/plain": [
       "<Figure size 432x288 with 1 Axes>"
      ]
     },
     "metadata": {},
     "output_type": "display_data"
    }
   ],
   "source": [
    "print('Max length:', max(map(len, english_names)))\n",
    "\n",
    "plt.title('Sequence length distribution')\n",
    "_ = plt.hist(list(map(len, english_names)), bins=25)"
   ]
  },
  {
   "cell_type": "markdown",
   "metadata": {},
   "source": [
    "## Network"
   ]
  },
  {
   "cell_type": "code",
   "execution_count": 136,
   "metadata": {},
   "outputs": [],
   "source": [
    "class CharRNNCell(nn.Module):\n",
    "    def __init__(self, num_tokens, embedding_size=16, rnn_num_units=64):\n",
    "        super().__init__()\n",
    "        self.num_units = rnn_num_units\n",
    "        \n",
    "        self.embedding = nn.Embedding(num_tokens, embedding_size)\n",
    "        self.rnn_update = nn.Linear(embedding_size + rnn_num_units, rnn_num_units)\n",
    "        self.rnn_to_logits = nn.Linear(rnn_num_units, num_tokens)\n",
    "        \n",
    "    def forward(self, x, h_prev):\n",
    "        \"\"\"\n",
    "        This method computes h_next(x, h_prev) and log P(x_next | h_next)\n",
    "        We'll call it repeatedly to produce the whole sequence.\n",
    "        \n",
    "        :param x: batch of character ids, int64[batch_size]\n",
    "        :param h_prev: previous rnn hidden states, float32 matrix [batch, rnn_num_units]\n",
    "        \"\"\"\n",
    "        x_emb = self.embedding(x)\n",
    "        h_next = self.rnn_update(torch.cat((h_prev, x_emb), dim=1))\n",
    "        h_next = torch.tanh(h_next)\n",
    "        logits = self.rnn_to_logits(h_next)\n",
    "        return h_next, F.log_softmax(logits, -1)\n",
    "    \n",
    "    def initial_state(self, batch_size):\n",
    "        \"\"\" return rnn state before it processes first input (aka h0) \"\"\"\n",
    "        return torch.zeros(batch_size, self.num_units)"
   ]
  },
  {
   "cell_type": "code",
   "execution_count": 146,
   "metadata": {},
   "outputs": [],
   "source": [
    "class Network:\n",
    "    '''Wrapper class for a neural network, takes list of names as the only param'''\n",
    "    def __init__(self, names):\n",
    "        self.names = names\n",
    "        self.MAX_LENGTH = max(map(len, names))\n",
    "        self.tokens = list(set(''.join(names)))\n",
    "        self.token_to_id = {token: idx for idx, token in enumerate(self.tokens)}\n",
    "        self.PAD_IX = self.token_to_id[' ']\n",
    "        \n",
    "        self.cur_epoch = 0\n",
    "        \n",
    "        self.rnn = CharRNNCell(len(self.tokens))\n",
    "        \n",
    "    def _to_matrix(self, lines, max_len=None, dtype='int32', batch_first=True):\n",
    "        '''Casts a list of names into matrix with tokens id'''\n",
    "\n",
    "        max_len = max_len or self.MAX_LENGTH\n",
    "        lines_ix = np.zeros([len(lines), max_len], dtype) + self.PAD_IX\n",
    "\n",
    "        for i in range(len(lines)):\n",
    "            line_ix = [self.token_to_id[c] for c in lines[i]]\n",
    "            lines_ix[i, :len(line_ix)] = line_ix\n",
    "\n",
    "        if not batch_first: # convert [batch, time] into [time, batch]\n",
    "            lines_ix = np.transpose(lines_ix)\n",
    "\n",
    "        return lines_ix\n",
    "        \n",
    "    def _rnn_loop(self, batch_ix):\n",
    "        \"\"\"\n",
    "        Computes log P(next_character) for all time-steps in lines_ix\n",
    "        :param lines_ix: an int32 matrix of shape [batch, time], output of _to_matrix(lines)\n",
    "        \"\"\"\n",
    "        batch_size, _ = batch_ix.size()\n",
    "        hid_state = self.rnn.initial_state(batch_size)\n",
    "        logprobs = []\n",
    "\n",
    "        for x_t in batch_ix.transpose(0, 1):\n",
    "            hid_state, logp_next = self.rnn(x_t, hid_state)  # <-- here we call your one-step code\n",
    "            logprobs.append(logp_next)\n",
    "\n",
    "        return torch.stack(logprobs, dim=1)\n",
    "    \n",
    "    def train(self, num_epochs=1000, warm_start=False):\n",
    "        if not warm_start:\n",
    "            self.history = []\n",
    "            self.opt = torch.optim.Adam(self.rnn.parameters())\n",
    "        \n",
    "        for i in range(self.cur_epoch, num_epochs):\n",
    "            batch_ix = self._to_matrix(sample(self.names, 32))\n",
    "            batch_ix = torch.tensor(batch_ix, dtype=torch.int64)\n",
    "\n",
    "            logp_seq = self._rnn_loop(batch_ix)\n",
    "\n",
    "            predictions_logp = logp_seq[:, :-1]\n",
    "            actual_next_tokens = batch_ix[:, 1:]\n",
    "\n",
    "            logp_next = torch.gather(predictions_logp, dim=2, index=actual_next_tokens[:, :, None])\n",
    "\n",
    "            loss = -logp_next.mean()\n",
    "\n",
    "            self.opt.zero_grad()\n",
    "            loss.backward()\n",
    "            self.opt.step()\n",
    "\n",
    "            self.history.append(loss.data.numpy())\n",
    "            self.cur_epoch = i\n",
    "            if (i + 1) % 100 == 0:\n",
    "                clear_output(True)\n",
    "                plt.plot(self.history, label='loss')\n",
    "                plt.legend()\n",
    "                plt.show()\n",
    "    \n",
    "    def generate_sample(self, seed_phrase=' ', temperature=1.0):\n",
    "        '''\n",
    "        The function generates text given a phrase of length at least SEQ_LENGTH.\n",
    "        :param seed_phrase: prefix characters. The RNN is asked to continue the phrase\n",
    "        :param max_length: maximum output length, including seed_phrase\n",
    "        :param temperature: coefficient for sampling.  higher temperature produces more chaotic outputs,\n",
    "                            smaller temperature converges to the single most likely output\n",
    "        '''\n",
    "\n",
    "        x_sequence = [self.token_to_id[token] for token in seed_phrase]\n",
    "        x_sequence = torch.tensor([x_sequence], dtype=torch.int64)\n",
    "        hid_state = self.rnn.initial_state(batch_size=1)\n",
    "\n",
    "        #feed the seed phrase, if any\n",
    "        for i in range(len(seed_phrase) - 1):\n",
    "            hid_state, _ = self.rnn(x_sequence[:, i], hid_state)\n",
    "\n",
    "        #start generating\n",
    "        for _ in range(self.MAX_LENGTH - len(seed_phrase)):\n",
    "            hid_state, logp_next = self.rnn(x_sequence[:, -1], hid_state)\n",
    "            p_next = F.softmax(logp_next / temperature, dim=-1).data.numpy()[0]\n",
    "\n",
    "            # sample next token and push it back into x_sequence\n",
    "            next_ix = np.random.choice(len(self.tokens), p=p_next)\n",
    "            next_ix = torch.tensor([[next_ix]], dtype=torch.int64)\n",
    "            x_sequence = torch.cat([x_sequence, next_ix], dim=1)\n",
    "\n",
    "        return ''.join([self.tokens[ix] for ix in x_sequence.data.numpy()[0]])"
   ]
  },
  {
   "cell_type": "markdown",
   "metadata": {},
   "source": [
    "## Training"
   ]
  },
  {
   "cell_type": "code",
   "execution_count": 149,
   "metadata": {},
   "outputs": [
    {
     "data": {
      "image/png": "[encoded data removed]",
      "text/plain": [
       "<Figure size 432x288 with 1 Axes>"
      ]
     },
     "metadata": {},
     "output_type": "display_data"
    }
   ],
   "source": [
    "rnn_names = Network(names)\n",
    "rnn_names.train(5000)"
   ]
  },
  {
   "cell_type": "code",
   "execution_count": 150,
   "metadata": {},
   "outputs": [
    {
     "data": {
      "image/png": "[encoded data removed]",
      "text/plain": [
       "<Figure size 432x288 with 1 Axes>"
      ]
     },
     "metadata": {},
     "output_type": "display_data"
    }
   ],
   "source": [
    "rnn_clean_names = Network(clean_names)\n",
    "rnn_clean_names.train(5000)"
   ]
  },
  {
   "cell_type": "code",
   "execution_count": 151,
   "metadata": {},
   "outputs": [
    {
     "data": {
      "image/png": "[encoded data removed]",
      "text/plain": [
       "<Figure size 432x288 with 1 Axes>"
      ]
     },
     "metadata": {},
     "output_type": "display_data"
    }
   ],
   "source": [
    "rnn_english_names = Network(english_names)\n",
    "rnn_english_names.train(5000)"
   ]
  },
  {
   "cell_type": "code",
   "execution_count": 219,
   "metadata": {},
   "outputs": [
    {
     "name": "stdout",
     "output_type": "stream",
     "text": [
      "КТОРПИКА дитачесныпина                                         \n",
      "КТОКВАРЬ угловая 3пинка                                        \n",
      "КТОРПИН метки, светульник                                      \n",
      "КТОГТРУЛЬ сола поста                                           \n",
      "КТОРСА полка навесной стоф                                     \n",
      "КТОРПОКЕН модуль с кухофочнеце                                 \n",
      "КТОРИТ белам                                                   \n",
      "КТОРСХИГ сумками                                               \n",
      "КТОКЛАСТЕН комбинакиныпукн                                     \n",
      "КТОКСТАРК серван, 2 променик 5-месерный                        \n"
     ]
    }
   ],
   "source": [
    "for _ in range(10):\n",
    "    print(rnn_names.generate_sample('КТО', temperature=0.8))"
   ]
  },
  {
   "cell_type": "code",
   "execution_count": 304,
   "metadata": {},
   "outputs": [
    {
     "name": "stdout",
     "output_type": "stream",
     "text": [
      "ДРАКАНКЕР местный модульный диван                        \n",
      "ДРАКАНКЕН шкаф для восатавор раковин                     \n",
      "ДРАКАННЕРО чехол на стеллаж                              \n",
      "ДРАККНГЕН тобуговый                                      \n",
      "ДРАКСНКГми кухбанный стол                                \n",
      "ДРАКЕРА чехол                                            \n",
      "ДРАКСНА бовссемения                                      \n",
      "ДРАКМОЛ стеллажпано  для раковины дсодный с полотами     \n",
      "ДРАКСННЕ кничь                                           \n",
      "ДРАККНГЕН масканика                                      \n"
     ]
    }
   ],
   "source": [
    "for _ in range(10):\n",
    "    print(rnn_clean_names.generate_sample('ДРАК', temperature=0.8))"
   ]
  },
  {
   "cell_type": "code",
   "execution_count": 306,
   "metadata": {},
   "outputs": [
    {
     "name": "stdout",
     "output_type": "stream",
     "text": [
      "JONSA wall shelf                                        \n",
      "JONGREL bosk                                            \n",
      "JONES duvet cover and caster\\, desk                     \n",
      "JONSA pillow spotlech onst                              \n",
      "JONGRN series                                           \n",
      "JONSSON crict                                           \n",
      "JONSA series                                            \n",
      "JONDAN toxties                                          \n",
      "JONDINEL table lamp                                     \n",
      "JONEST plant                                            \n"
     ]
    }
   ],
   "source": [
    "for _ in range(10):\n",
    "    print(rnn_english_names.generate_sample('JON', temperature=0.8))"
   ]
  }
 ],
 "metadata": {
  "kernelspec": {
   "display_name": "Python 3",
   "language": "python",
   "name": "python3"
  },
  "language_info": {
   "codemirror_mode": {
    "name": "ipython",
    "version": 3
   },
   "file_extension": ".py",
   "mimetype": "text/x-python",
   "name": "python",
   "nbconvert_exporter": "python",
   "pygments_lexer": "ipython3",
   "version": "3.6.4"
  }
 },
 "nbformat": 4,
 "nbformat_minor": 2
}
